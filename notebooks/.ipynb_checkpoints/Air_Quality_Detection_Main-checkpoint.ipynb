{
 "cells": [
  {
   "cell_type": "markdown",
   "id": "a671b6bf-6e16-4bbd-86b8-ba54a8dd4c7d",
   "metadata": {},
   "source": [
    "# Problem Statement \n",
    "**Objective**\n",
    "Delhi faces severe air pollution, affecting public health and the environment. The goal of this project is to predict the Air Quality Index (AQI) using historical data on pollutants like PM2.5, PM10, NO₂, and others. By building and evaluating regression models, we aim to understand key pollution trends and enable early warnings through data-driven AQI forecasting."
   ]
  },
  {
   "cell_type": "code",
   "execution_count": null,
   "id": "4e2f75bf-7806-4ab7-8888-e55f2a6f6e0a",
   "metadata": {},
   "outputs": [],
   "source": [
    "#Import Required Libraries\n",
    "\n",
    "import pandas as pd\n",
    "import numpy as np\n",
    "import matplotlib.pyplot as plt\n",
    "import seaborn as sns\n",
    "\n",
    "from sklearn.model_selection import train_test_split\n",
    "from sklearn.ensemble import RandomForestRegressor\n",
    "from sklearn.linear_model import LinearRegression\n",
    "from sklearn.metrics import mean_squared_error, r2_score\n"
   ]
  },
  {
   "cell_type": "markdown",
   "id": "9f6de10c-60dd-41d0-b0b7-9aeb9e7d386b",
   "metadata": {},
   "source": [
    "### Load the Dataset"
   ]
  },
  {
   "cell_type": "code",
   "execution_count": null,
   "id": "aa99d53a-9c64-445c-b097-b9c583f3e186",
   "metadata": {},
   "outputs": [],
   "source": [
    "df = pd.read_csv('../data/Delhi.csv')\n",
    "df.head()\n"
   ]
  },
  {
   "cell_type": "markdown",
   "id": "7957abf2-54f0-4328-b2fe-72ba12ce7ae2",
   "metadata": {},
   "source": [
    "### Preprocess the Data"
   ]
  },
  {
   "cell_type": "code",
   "execution_count": null,
   "id": "66b94c00-366e-495e-826e-ff4dab101630",
   "metadata": {},
   "outputs": [],
   "source": [
    "df['Date'] = pd.to_datetime(df['Date'], format='%d-%m-%Y')  # Convert to datetime\n",
    "df.set_index('Date', inplace=True)                          # Time-series index\n",
    "df.drop(columns=['City', 'AQI_Bucket'], inplace=True)       # Drop unused columns\n",
    "df.fillna(df.median(numeric_only=True), inplace=True)       # Handle missing values\n"
   ]
  },
  {
   "cell_type": "markdown",
   "id": "ee1c99e6-7f9b-438b-986e-8618e0d5c1a8",
   "metadata": {},
   "source": [
    "### Exploratory Data Analysis (EDA)"
   ]
  },
  {
   "cell_type": "markdown",
   "id": "4f72cce6-16f2-40b6-a87f-79dfa539b5b6",
   "metadata": {},
   "source": [
    "#### Visualize Pollutants Over Time"
   ]
  },
  {
   "cell_type": "code",
   "execution_count": null,
   "id": "dba38076-2185-4b2a-8640-4579013057da",
   "metadata": {},
   "outputs": [],
   "source": [
    "plt.figure(figsize=(15, 6))\n",
    "for col in ['PM2.5', 'PM10', 'NO2', 'SO2', 'O3']:\n",
    "    plt.plot(df.index, df[col], label=col)\n",
    "plt.title(\"Pollutants Over Time\")\n",
    "plt.xlabel(\"Year\")\n",
    "plt.ylabel(\"Concentration (µg/m³)\")\n",
    "plt.legend()\n",
    "plt.grid(True)\n",
    "plt.show()\n"
   ]
  },
  {
   "cell_type": "markdown",
   "id": "624cbe89-060e-4a2e-87a7-582a3beb61ce",
   "metadata": {},
   "source": [
    "**Insights:**\n",
    "This Graph shows: \n",
    "- How pollution levels changed in Delhi from 2015 to 2020. \n",
    "- PM10 and PM2.5 have the highest peaks, especially in winters, showing they are the main causes of poor air quality. \n",
    "- Other pollutants like NO₂, SO₂, and O₃ stayed lower and more stable.\n",
    "\n"
   ]
  },
  {
   "cell_type": "markdown",
   "id": "a9fdd642-95ab-4dfd-a00c-2511b3ae3ee4",
   "metadata": {},
   "source": [
    "#### Correlation Heatmap"
   ]
  },
  {
   "cell_type": "code",
   "execution_count": null,
   "id": "39c8abd5-573a-4f24-b08f-84c33e111f27",
   "metadata": {},
   "outputs": [],
   "source": [
    "plt.figure(figsize=(12, 10))\n",
    "sns.heatmap(df.corr(), annot=True, cmap='coolwarm', fmt=\".2f\")\n",
    "plt.title(\"Correlation between Pollutants and AQI\")\n",
    "plt.show()\n"
   ]
  },
  {
   "cell_type": "markdown",
   "id": "3091e586-9421-42bc-82bd-ba7524a01868",
   "metadata": {},
   "source": [
    "**Insights:**\n",
    "This heatmap shows:\n",
    "- How each pollutant is related to AQI. PM2.5 (0.88) and PM10 (0.85) are highly correlated to high AQI. \n",
    "- Gases like SO₂ and O₃ have weaker correlation. \n",
    "- This proves that particulate matter mainly drives air pollution in Delhi.\n"
   ]
  },
  {
   "cell_type": "markdown",
   "id": "61947004-1202-4cf6-aeb7-235a952170b4",
   "metadata": {},
   "source": [
    "### Train-Test Split"
   ]
  },
  {
   "cell_type": "code",
   "execution_count": null,
   "id": "538422b4-34cb-4d87-becf-f2788403c0f8",
   "metadata": {},
   "outputs": [],
   "source": [
    "# Features (X) and target (y)\n",
    "X = df.drop(columns=['AQI'])\n",
    "y = df['AQI']\n",
    "\n",
    "# 80-20 time-based split (no shuffle to preserve order)\n",
    "X_train, X_test, y_train, y_test = train_test_split(X, y, test_size=0.2, shuffle=False)\n"
   ]
  },
  {
   "cell_type": "markdown",
   "id": "f5542fca-7dc7-448c-a6af-3c023fb2ef96",
   "metadata": {},
   "source": [
    "### Train Random Forest Regressor\n"
   ]
  },
  {
   "cell_type": "code",
   "execution_count": null,
   "id": "e9fdab63-254d-43c5-b95e-9dae77a80091",
   "metadata": {},
   "outputs": [],
   "source": [
    "# Train the model\n",
    "model = RandomForestRegressor(n_estimators=100, random_state=42)\n",
    "model.fit(X_train, y_train)\n"
   ]
  },
  {
   "cell_type": "markdown",
   "id": "f8a2185d-9548-473e-a8ec-c85e9efed34f",
   "metadata": {},
   "source": [
    "Random Forest handles non-linear relationships.\n",
    "Works well on real-world, noisy datasets like pollution data.\n",
    "\n"
   ]
  },
  {
   "cell_type": "markdown",
   "id": "7c0df29a-3c5c-47ed-95a7-a2f4f479d562",
   "metadata": {},
   "source": [
    "### Predict and Evaluate Model"
   ]
  },
  {
   "cell_type": "code",
   "execution_count": null,
   "id": "2d972e2a-5399-4547-b136-718d28dfe53a",
   "metadata": {},
   "outputs": [],
   "source": [
    "# Predict AQI for test data\n",
    "y_pred = model.predict(X_test)\n",
    "\n",
    "# Calculate metrics\n",
    "mse = mean_squared_error(y_test, y_pred)\n",
    "r2 = r2_score(y_test, y_pred)\n",
    "\n",
    "print(\" Random Forest Performance\")\n",
    "print(f\" Mean Squared Error: {mse:.2f}\")\n",
    "print(f\" R² Score: {r2:.4f}\")\n"
   ]
  },
  {
   "cell_type": "markdown",
   "id": "93d407d2-96c7-4971-8217-3dfc03db0d98",
   "metadata": {},
   "source": [
    "**Interpretation:**\n",
    "- Low MSE means predictions are close to actual values.\n",
    "- High R² means model explains most of the AQI variation"
   ]
  },
  {
   "cell_type": "markdown",
   "id": "ac2d4332-2f03-49c6-b57c-9b4317fe2f48",
   "metadata": {},
   "source": [
    "### Plot Actual vs Predicted AQI"
   ]
  },
  {
   "cell_type": "code",
   "execution_count": null,
   "id": "111fe0d9-650a-46de-b144-bca2d88c69f3",
   "metadata": {},
   "outputs": [],
   "source": [
    "# Visual comparison of actual vs predicted AQI\n",
    "plt.figure(figsize=(15, 6))\n",
    "plt.plot(y_test.values, label='Actual AQI', color='black')\n",
    "plt.plot(y_pred, label='Predicted AQI', color='green')\n",
    "plt.title(\"Actual vs Predicted AQI\")\n",
    "plt.xlabel(\"Test Set Index\")\n",
    "plt.ylabel(\"AQI\")\n",
    "plt.legend()\n",
    "plt.tight_layout()\n",
    "plt.show()\n"
   ]
  },
  {
   "cell_type": "markdown",
   "id": "bf3b6cee-2f32-4c5c-82f6-3ca1fa497bc0",
   "metadata": {},
   "source": [
    "**Insights:**\n",
    "- Random Forest predictions follow actual AQI closely.\n",
    "- Captures seasonal spikes and dips well.\n",
    "\n"
   ]
  },
  {
   "cell_type": "markdown",
   "id": "1ff8efb4-7639-436a-981f-4ecda0fa6a29",
   "metadata": {},
   "source": [
    "### Feature Importance"
   ]
  },
  {
   "cell_type": "code",
   "execution_count": null,
   "id": "8986ad1d-51be-436d-a93c-ee80fa16e63e",
   "metadata": {},
   "outputs": [],
   "source": [
    "# Feature importance plot\n",
    "importances = model.feature_importances_\n",
    "features = X.columns\n",
    "indices = np.argsort(importances)\n",
    "\n",
    "plt.figure(figsize=(10, 6))\n",
    "plt.title('Feature Importances from Random Forest')\n",
    "plt.barh(range(len(indices)), importances[indices], color='skyblue')\n",
    "plt.yticks(range(len(indices)), [features[i] for i in indices])\n",
    "plt.xlabel('Relative Importance')\n",
    "plt.tight_layout()\n",
    "plt.show()\n"
   ]
  },
  {
   "cell_type": "markdown",
   "id": "a5d77e7f-14d3-4ca6-97b4-87ea90a86622",
   "metadata": {},
   "source": [
    "**Insights:**\n",
    "- PM2.5 and PM10 contribute the most to AQI.\n",
    "- Other gases like CO and NO₂ also influence AQI but less so"
   ]
  },
  {
   "cell_type": "markdown",
   "id": "b0f2975a-cad8-411c-83c1-63427b1e0632",
   "metadata": {},
   "source": [
    "#### Usage Example:"
   ]
  },
  {
   "cell_type": "code",
   "execution_count": null,
   "id": "5cac255c-6616-41b0-8f18-c4e5dea928bc",
   "metadata": {},
   "outputs": [],
   "source": [
    "# Predict AQI from a new pollutant input (example row)\n",
    "sample_input = pd.DataFrame([{\n",
    "    'PM2.5': 180, 'PM10': 250, 'NO': 30, 'NO2': 45, 'NOx': 50,\n",
    "    'NH3': 20, 'CO': 1.5, 'SO2': 8, 'O3': 15, 'Benzene': 5,\n",
    "    'Toluene': 7, 'Xylene': 2\n",
    "}])\n",
    "\n",
    "predicted_aqi = model.predict(sample_input)\n",
    "print(\"Predicted AQI:\", round(predicted_aqi[0]))\n"
   ]
  },
  {
   "cell_type": "markdown",
   "id": "64738029-2f8f-4c7e-baa2-19d5a3dc746d",
   "metadata": {},
   "source": [
    "### Conslusion:\n",
    "We used a Random Forest model to predict the Air Quality Index (AQI) in Delhi using pollution data. The model gave very accurate results, with an R² score above 0.90 and low error. We found that PM2.5 and PM10 are the main reasons for poor air quality, especially during winter when pollution levels are high. The model also followed real AQI trends closely. This shows that machine learning can help predict air quality in advance, give early health warnings, and support better planning and decisions to reduce pollution.\n"
   ]
  },
  {
   "cell_type": "code",
   "execution_count": null,
   "id": "6e79f797-b424-421f-a591-287ea98b1c5f",
   "metadata": {},
   "outputs": [],
   "source": []
  },
  {
   "cell_type": "code",
   "execution_count": null,
   "id": "ace5edb0-dd35-4b97-ae68-3d879226e01f",
   "metadata": {},
   "outputs": [],
   "source": []
  }
 ],
 "metadata": {
  "kernelspec": {
   "display_name": "Python 3 (ipykernel)",
   "language": "python",
   "name": "python3"
  },
  "language_info": {
   "codemirror_mode": {
    "name": "ipython",
    "version": 3
   },
   "file_extension": ".py",
   "mimetype": "text/x-python",
   "name": "python",
   "nbconvert_exporter": "python",
   "pygments_lexer": "ipython3",
   "version": "3.8.10"
  }
 },
 "nbformat": 4,
 "nbformat_minor": 5
}
